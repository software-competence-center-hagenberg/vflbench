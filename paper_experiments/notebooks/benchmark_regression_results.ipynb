{
 "cells": [
  {
   "cell_type": "markdown",
   "source": [
    "# Import libraries"
   ],
   "metadata": {
    "collapsed": false
   }
  },
  {
   "cell_type": "code",
   "execution_count": 1,
   "outputs": [],
   "source": [
    "import pickle\n",
    "import pandas as pd\n",
    "import numpy as np"
   ],
   "metadata": {
    "collapsed": false
   }
  },
  {
   "cell_type": "markdown",
   "source": [
    "# Define utils functions"
   ],
   "metadata": {
    "collapsed": false
   }
  },
  {
   "cell_type": "code",
   "execution_count": 2,
   "outputs": [],
   "source": [
    "def dict_to_dataframe(result_dict, method_list):\n",
    "\n",
    "    mean_r2_arr = []\n",
    "    q1_r2_arr = []\n",
    "    q3_r2_arr = []\n",
    "\n",
    "    mean_rmse_arr = []\n",
    "    q1_rmse_arr = []\n",
    "    q3_rmse_arr = []\n",
    "\n",
    "    for method in result_dict:\n",
    "        mean_r2 = np.median(result_dict[method][\"r2_list\"])\n",
    "        q1_r2 = np.percentile(result_dict[method][\"r2_list\"], 25)\n",
    "        q3_r2 = np.percentile(result_dict[method][\"r2_list\"], 75)\n",
    "\n",
    "        mean_rmse = np.median(result_dict[method][\"rmse_list\"])\n",
    "        q1_rmse = np.percentile(result_dict[method][\"rmse_list\"], 25)\n",
    "        q3_rmse = np.percentile(result_dict[method][\"rmse_list\"], 75)\n",
    "\n",
    "        mean_r2_arr.append(mean_r2)\n",
    "        q1_r2_arr.append(q1_r2)\n",
    "        q3_r2_arr.append(q3_r2)\n",
    "\n",
    "        mean_rmse_arr.append(mean_rmse)\n",
    "        q1_rmse_arr.append(q1_rmse)\n",
    "        q3_rmse_arr.append(q3_rmse)\n",
    "\n",
    "\n",
    "    df_result = pd.DataFrame({\"Method\": method_list,\n",
    "                              \"Q1. r2\": q1_r2_arr, \"Avg. r2\": mean_r2_arr,  \"Q3. r2\": q3_r2_arr,\n",
    "                              \"Q1. rmse\": q1_rmse_arr, \"Avg. rmse\": mean_rmse_arr, \"Q3. rmse\": q3_rmse_arr\n",
    "                              })\n",
    "\n",
    "    return df_result"
   ],
   "metadata": {
    "collapsed": false
   }
  },
  {
   "cell_type": "markdown",
   "source": [
    "# Natural-split datasets"
   ],
   "metadata": {
    "collapsed": false
   }
  },
  {
   "cell_type": "code",
   "execution_count": 3,
   "outputs": [
    {
     "data": {
      "text/plain": "['hysys_i', 'sfs', 'smp']"
     },
     "execution_count": 3,
     "metadata": {},
     "output_type": "execute_result"
    }
   ],
   "source": [
    "# Load results\n",
    "source_name = \"natural_split_datasets\"\n",
    "method_names = [\"p3ls\", \"ppsr\", \"secureboost\", \"splitnn\"]\n",
    "dataset_names = [\"hysys_i\", \"sfs\", \"smp\"]\n",
    "dataset_names"
   ],
   "metadata": {
    "collapsed": false
   }
  },
  {
   "cell_type": "code",
   "execution_count": 4,
   "outputs": [],
   "source": [
    "results = {dataset: {} for dataset in dataset_names}\n",
    "result_dir = \"../results\"\n",
    "for dataset in dataset_names:\n",
    "    for method in method_names:\n",
    "        file_path = \"{}/{}_{}.pkl\".format(result_dir, method, dataset)\n",
    "        with open(file_path, \"rb\") as f:\n",
    "            result = pickle.load(f)\n",
    "\n",
    "        results[dataset][method] = result"
   ],
   "metadata": {
    "collapsed": false
   }
  },
  {
   "cell_type": "code",
   "execution_count": 5,
   "outputs": [
    {
     "data": {
      "text/plain": "        Method  Q1. r2  Avg. r2  Q3. r2  Q1. rmse  Avg. rmse  Q3. rmse\n0         p3ls   0.995    0.995   0.995     0.744      0.744     0.744\n1         ppsr   0.934    0.946   0.950     2.314      2.409     2.671\n2  secureboost   0.953    0.953   0.953     2.248      2.248     2.248\n3      splitnn   0.982    0.986   0.988     1.131      1.238     1.411",
      "text/html": "<div>\n<style scoped>\n    .dataframe tbody tr th:only-of-type {\n        vertical-align: middle;\n    }\n\n    .dataframe tbody tr th {\n        vertical-align: top;\n    }\n\n    .dataframe thead th {\n        text-align: right;\n    }\n</style>\n<table border=\"1\" class=\"dataframe\">\n  <thead>\n    <tr style=\"text-align: right;\">\n      <th></th>\n      <th>Method</th>\n      <th>Q1. r2</th>\n      <th>Avg. r2</th>\n      <th>Q3. r2</th>\n      <th>Q1. rmse</th>\n      <th>Avg. rmse</th>\n      <th>Q3. rmse</th>\n    </tr>\n  </thead>\n  <tbody>\n    <tr>\n      <th>0</th>\n      <td>p3ls</td>\n      <td>0.995</td>\n      <td>0.995</td>\n      <td>0.995</td>\n      <td>0.744</td>\n      <td>0.744</td>\n      <td>0.744</td>\n    </tr>\n    <tr>\n      <th>1</th>\n      <td>ppsr</td>\n      <td>0.934</td>\n      <td>0.946</td>\n      <td>0.950</td>\n      <td>2.314</td>\n      <td>2.409</td>\n      <td>2.671</td>\n    </tr>\n    <tr>\n      <th>2</th>\n      <td>secureboost</td>\n      <td>0.953</td>\n      <td>0.953</td>\n      <td>0.953</td>\n      <td>2.248</td>\n      <td>2.248</td>\n      <td>2.248</td>\n    </tr>\n    <tr>\n      <th>3</th>\n      <td>splitnn</td>\n      <td>0.982</td>\n      <td>0.986</td>\n      <td>0.988</td>\n      <td>1.131</td>\n      <td>1.238</td>\n      <td>1.411</td>\n    </tr>\n  </tbody>\n</table>\n</div>"
     },
     "execution_count": 5,
     "metadata": {},
     "output_type": "execute_result"
    }
   ],
   "source": [
    "dict_to_dataframe(results[\"hysys_i\"], method_names).round(3)"
   ],
   "metadata": {
    "collapsed": false
   }
  },
  {
   "cell_type": "code",
   "execution_count": 6,
   "outputs": [
    {
     "data": {
      "text/plain": "        Method  Q1. r2  Avg. r2  Q3. r2  Q1. rmse  Avg. rmse  Q3. rmse\n0         p3ls   0.955    0.955   0.955    42.058     42.058    42.058\n1         ppsr   0.931    0.952   0.958    40.533     43.400    52.154\n2  secureboost   0.980    0.980   0.980    28.021     28.021    28.021\n3      splitnn   0.953    0.954   0.957    41.197     42.625    43.229",
      "text/html": "<div>\n<style scoped>\n    .dataframe tbody tr th:only-of-type {\n        vertical-align: middle;\n    }\n\n    .dataframe tbody tr th {\n        vertical-align: top;\n    }\n\n    .dataframe thead th {\n        text-align: right;\n    }\n</style>\n<table border=\"1\" class=\"dataframe\">\n  <thead>\n    <tr style=\"text-align: right;\">\n      <th></th>\n      <th>Method</th>\n      <th>Q1. r2</th>\n      <th>Avg. r2</th>\n      <th>Q3. r2</th>\n      <th>Q1. rmse</th>\n      <th>Avg. rmse</th>\n      <th>Q3. rmse</th>\n    </tr>\n  </thead>\n  <tbody>\n    <tr>\n      <th>0</th>\n      <td>p3ls</td>\n      <td>0.955</td>\n      <td>0.955</td>\n      <td>0.955</td>\n      <td>42.058</td>\n      <td>42.058</td>\n      <td>42.058</td>\n    </tr>\n    <tr>\n      <th>1</th>\n      <td>ppsr</td>\n      <td>0.931</td>\n      <td>0.952</td>\n      <td>0.958</td>\n      <td>40.533</td>\n      <td>43.400</td>\n      <td>52.154</td>\n    </tr>\n    <tr>\n      <th>2</th>\n      <td>secureboost</td>\n      <td>0.980</td>\n      <td>0.980</td>\n      <td>0.980</td>\n      <td>28.021</td>\n      <td>28.021</td>\n      <td>28.021</td>\n    </tr>\n    <tr>\n      <th>3</th>\n      <td>splitnn</td>\n      <td>0.953</td>\n      <td>0.954</td>\n      <td>0.957</td>\n      <td>41.197</td>\n      <td>42.625</td>\n      <td>43.229</td>\n    </tr>\n  </tbody>\n</table>\n</div>"
     },
     "execution_count": 6,
     "metadata": {},
     "output_type": "execute_result"
    }
   ],
   "source": [
    "dict_to_dataframe(results[\"sfs\"], method_names).round(3)"
   ],
   "metadata": {
    "collapsed": false
   }
  },
  {
   "cell_type": "code",
   "execution_count": 7,
   "outputs": [
    {
     "data": {
      "text/plain": "        Method  Q1. r2  Avg. r2  Q3. r2  Q1. rmse  Avg. rmse  Q3. rmse\n0         p3ls   0.981    0.981   0.981     0.014      0.014     0.014\n1         ppsr   0.934    0.938   0.943     0.025      0.026     0.026\n2  secureboost   0.848    0.848   0.848     0.040      0.040     0.040\n3      splitnn   0.932    0.956   0.969     0.018      0.022     0.027",
      "text/html": "<div>\n<style scoped>\n    .dataframe tbody tr th:only-of-type {\n        vertical-align: middle;\n    }\n\n    .dataframe tbody tr th {\n        vertical-align: top;\n    }\n\n    .dataframe thead th {\n        text-align: right;\n    }\n</style>\n<table border=\"1\" class=\"dataframe\">\n  <thead>\n    <tr style=\"text-align: right;\">\n      <th></th>\n      <th>Method</th>\n      <th>Q1. r2</th>\n      <th>Avg. r2</th>\n      <th>Q3. r2</th>\n      <th>Q1. rmse</th>\n      <th>Avg. rmse</th>\n      <th>Q3. rmse</th>\n    </tr>\n  </thead>\n  <tbody>\n    <tr>\n      <th>0</th>\n      <td>p3ls</td>\n      <td>0.981</td>\n      <td>0.981</td>\n      <td>0.981</td>\n      <td>0.014</td>\n      <td>0.014</td>\n      <td>0.014</td>\n    </tr>\n    <tr>\n      <th>1</th>\n      <td>ppsr</td>\n      <td>0.934</td>\n      <td>0.938</td>\n      <td>0.943</td>\n      <td>0.025</td>\n      <td>0.026</td>\n      <td>0.026</td>\n    </tr>\n    <tr>\n      <th>2</th>\n      <td>secureboost</td>\n      <td>0.848</td>\n      <td>0.848</td>\n      <td>0.848</td>\n      <td>0.040</td>\n      <td>0.040</td>\n      <td>0.040</td>\n    </tr>\n    <tr>\n      <th>3</th>\n      <td>splitnn</td>\n      <td>0.932</td>\n      <td>0.956</td>\n      <td>0.969</td>\n      <td>0.018</td>\n      <td>0.022</td>\n      <td>0.027</td>\n    </tr>\n  </tbody>\n</table>\n</div>"
     },
     "execution_count": 7,
     "metadata": {},
     "output_type": "execute_result"
    }
   ],
   "source": [
    "dict_to_dataframe(results[\"smp\"], method_names).round(3)"
   ],
   "metadata": {
    "collapsed": false
   }
  }
 ],
 "metadata": {
  "kernelspec": {
   "display_name": "Python 3",
   "language": "python",
   "name": "python3"
  },
  "language_info": {
   "codemirror_mode": {
    "name": "ipython",
    "version": 2
   },
   "file_extension": ".py",
   "mimetype": "text/x-python",
   "name": "python",
   "nbconvert_exporter": "python",
   "pygments_lexer": "ipython2",
   "version": "2.7.6"
  }
 },
 "nbformat": 4,
 "nbformat_minor": 0
}
