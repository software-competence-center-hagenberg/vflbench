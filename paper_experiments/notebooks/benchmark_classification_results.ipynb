{
 "cells": [
  {
   "cell_type": "markdown",
   "source": [
    "# Import libraries"
   ],
   "metadata": {
    "collapsed": false
   }
  },
  {
   "cell_type": "code",
   "execution_count": 1,
   "outputs": [],
   "source": [
    "import pickle\n",
    "import pandas as pd\n",
    "import numpy as np"
   ],
   "metadata": {
    "collapsed": false
   }
  },
  {
   "cell_type": "markdown",
   "source": [
    "# Define utils functions"
   ],
   "metadata": {
    "collapsed": false
   }
  },
  {
   "cell_type": "code",
   "execution_count": 2,
   "outputs": [],
   "source": [
    "def dict_to_dataframe(result_dict, method_list):\n",
    "\n",
    "    mean_acc_arr = []\n",
    "    q1_acc_arr = []\n",
    "    q3_acc_arr = []\n",
    "\n",
    "    mean_f1_arr = []\n",
    "    q1_f1_arr = []\n",
    "    q3_f1_arr = []\n",
    "\n",
    "    for method in result_dict:\n",
    "\n",
    "        mean_acc = np.median(result_dict[method][\"acc_list\"])\n",
    "        q1_acc = np.percentile(result_dict[method][\"acc_list\"], 25)\n",
    "        q3_acc = np.percentile(result_dict[method][\"acc_list\"], 75)\n",
    "\n",
    "        mean_f1 = np.median(result_dict[method][\"f1_list\"])\n",
    "        q1_f1 = np.percentile(result_dict[method][\"f1_list\"], 25)\n",
    "        q3_f1 = np.percentile(result_dict[method][\"f1_list\"], 75)\n",
    "\n",
    "        mean_acc_arr.append(mean_acc)\n",
    "        q1_acc_arr.append(q1_acc)\n",
    "        q3_acc_arr.append(q3_acc)\n",
    "\n",
    "        mean_f1_arr.append(mean_f1)\n",
    "        q1_f1_arr.append(q1_f1)\n",
    "        q3_f1_arr.append(q3_f1)\n",
    "\n",
    "\n",
    "    df_result = pd.DataFrame({\"Method\": method_list,\n",
    "                              \"Q1. acc\": q1_acc_arr, \"Avg. acc\": mean_acc_arr,  \"Q3. acc\": q3_acc_arr,\n",
    "                              \"Q1. f1\": q1_f1_arr, \"Avg. f1\": mean_f1_arr, \"Q3. f1\": q3_f1_arr\n",
    "                              })\n",
    "\n",
    "    return df_result"
   ],
   "metadata": {
    "collapsed": false
   }
  },
  {
   "cell_type": "markdown",
   "source": [
    "# Natural-split datasets"
   ],
   "metadata": {
    "collapsed": false
   }
  },
  {
   "cell_type": "code",
   "execution_count": 3,
   "outputs": [
    {
     "data": {
      "text/plain": "['hysys_ii']"
     },
     "execution_count": 3,
     "metadata": {},
     "output_type": "execute_result"
    }
   ],
   "source": [
    "# Load results\n",
    "source_name = \"natural_split_datasets\"\n",
    "method_names = [\"p3ls\", \"ppsr\", \"secureboost\", \"splitnn\"]\n",
    "dataset_names = [\"hysys_ii\"]\n",
    "dataset_names"
   ],
   "metadata": {
    "collapsed": false
   }
  },
  {
   "cell_type": "code",
   "execution_count": 4,
   "outputs": [],
   "source": [
    "results = {dataset: {} for dataset in dataset_names}\n",
    "result_dir = \"../results\"\n",
    "for dataset in dataset_names:\n",
    "    for method in method_names:\n",
    "        file_path = \"{}/{}_{}.pkl\".format(result_dir, method, dataset)\n",
    "        with open(file_path, \"rb\") as f:\n",
    "            result = pickle.load(f)\n",
    "\n",
    "        results[dataset][method] = result"
   ],
   "metadata": {
    "collapsed": false
   }
  },
  {
   "cell_type": "code",
   "execution_count": 5,
   "outputs": [
    {
     "data": {
      "text/plain": "        Method  Q1. acc  Avg. acc  Q3. acc  Q1. f1  Avg. f1  Q3. f1\n0         p3ls    0.937     0.937    0.937   0.917    0.917   0.917\n1         ppsr    0.931     0.943    0.951   0.904    0.922   0.933\n2  secureboost    0.964     0.964    0.964   0.950    0.950   0.950\n3      splitnn    0.939     0.939    0.941   0.916    0.916   0.919",
      "text/html": "<div>\n<style scoped>\n    .dataframe tbody tr th:only-of-type {\n        vertical-align: middle;\n    }\n\n    .dataframe tbody tr th {\n        vertical-align: top;\n    }\n\n    .dataframe thead th {\n        text-align: right;\n    }\n</style>\n<table border=\"1\" class=\"dataframe\">\n  <thead>\n    <tr style=\"text-align: right;\">\n      <th></th>\n      <th>Method</th>\n      <th>Q1. acc</th>\n      <th>Avg. acc</th>\n      <th>Q3. acc</th>\n      <th>Q1. f1</th>\n      <th>Avg. f1</th>\n      <th>Q3. f1</th>\n    </tr>\n  </thead>\n  <tbody>\n    <tr>\n      <th>0</th>\n      <td>p3ls</td>\n      <td>0.937</td>\n      <td>0.937</td>\n      <td>0.937</td>\n      <td>0.917</td>\n      <td>0.917</td>\n      <td>0.917</td>\n    </tr>\n    <tr>\n      <th>1</th>\n      <td>ppsr</td>\n      <td>0.931</td>\n      <td>0.943</td>\n      <td>0.951</td>\n      <td>0.904</td>\n      <td>0.922</td>\n      <td>0.933</td>\n    </tr>\n    <tr>\n      <th>2</th>\n      <td>secureboost</td>\n      <td>0.964</td>\n      <td>0.964</td>\n      <td>0.964</td>\n      <td>0.950</td>\n      <td>0.950</td>\n      <td>0.950</td>\n    </tr>\n    <tr>\n      <th>3</th>\n      <td>splitnn</td>\n      <td>0.939</td>\n      <td>0.939</td>\n      <td>0.941</td>\n      <td>0.916</td>\n      <td>0.916</td>\n      <td>0.919</td>\n    </tr>\n  </tbody>\n</table>\n</div>"
     },
     "execution_count": 5,
     "metadata": {},
     "output_type": "execute_result"
    }
   ],
   "source": [
    "dict_to_dataframe(results[\"hysys_ii\"], method_names).round(3)"
   ],
   "metadata": {
    "collapsed": false
   }
  }
 ],
 "metadata": {
  "kernelspec": {
   "display_name": "Python 3",
   "language": "python",
   "name": "python3"
  },
  "language_info": {
   "codemirror_mode": {
    "name": "ipython",
    "version": 2
   },
   "file_extension": ".py",
   "mimetype": "text/x-python",
   "name": "python",
   "nbconvert_exporter": "python",
   "pygments_lexer": "ipython2",
   "version": "2.7.6"
  }
 },
 "nbformat": 4,
 "nbformat_minor": 0
}
